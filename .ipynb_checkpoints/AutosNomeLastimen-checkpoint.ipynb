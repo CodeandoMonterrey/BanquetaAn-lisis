{
 "cells": [
  {
   "cell_type": "code",
   "execution_count": 1,
   "metadata": {
    "collapsed": true
   },
   "outputs": [],
   "source": [
    "import pandas as pd"
   ]
  },
  {
   "cell_type": "code",
   "execution_count": 3,
   "metadata": {},
   "outputs": [],
   "source": [
    "data = pd.ExcelFile(\"basetodosentregable3feb20171.xlsx\")"
   ]
  },
  {
   "cell_type": "code",
   "execution_count": 6,
   "metadata": {
    "collapsed": true
   },
   "outputs": [],
   "source": [
    "data_encuesta = data.parse(\"ENCUESTA\")"
   ]
  },
  {
   "cell_type": "code",
   "execution_count": 7,
   "metadata": {
    "collapsed": true
   },
   "outputs": [],
   "source": [
    "data_zmm = pd.DataFrame()"
   ]
  },
  {
   "cell_type": "code",
   "execution_count": 8,
   "metadata": {},
   "outputs": [],
   "source": [
    "Municipios = data_encuesta[\"MUNICIPIO \"].unique()"
   ]
  },
  {
   "cell_type": "code",
   "execution_count": 9,
   "metadata": {
    "collapsed": true
   },
   "outputs": [],
   "source": [
    "for municipio in Municipios:\n",
    "    data_municipio = data_encuesta[data_encuesta[\"MUNICIPIO \"]==municipio]\n",
    "    if len(data_municipio) == 207:\n",
    "        data_zmm = pd.concat([data_zmm,data_municipio])"
   ]
  },
  {
   "cell_type": "code",
   "execution_count": 10,
   "metadata": {},
   "outputs": [
    {
     "data": {
      "text/plain": [
       "MONTERREY         207\n",
       "SAN NICOLÁS       207\n",
       "SANTA CATARINA    207\n",
       "APODACA           207\n",
       "JUAREZ            207\n",
       "ESCOBEDO          207\n",
       "GARCÍA            207\n",
       "GUADALUPE         207\n",
       "SAN PEDRO         207\n",
       "Name: MUNICIPIO , dtype: int64"
      ]
     },
     "execution_count": 10,
     "metadata": {},
     "output_type": "execute_result"
    }
   ],
   "source": [
    "data_zmm[\"MUNICIPIO \"].value_counts()"
   ]
  },
  {
   "cell_type": "code",
   "execution_count": 16,
   "metadata": {},
   "outputs": [
    {
     "data": {
      "text/plain": [
       "ENTRE 10 Y 15 PESOS    518\n",
       "MÁS DE 20 PESOS        166\n",
       "ENTRE 15 Y 20 PESOS     51\n",
       "ENTRE 5 Y 10 PESOS      32\n",
       "MENOS DE 5 PESOS        20\n",
       "Name: COSTO TOTAL IDA, dtype: int64"
      ]
     },
     "execution_count": 16,
     "metadata": {},
     "output_type": "execute_result"
    }
   ],
   "source": [
    "data_zmm[\"COSTO TOTAL IDA\"].value_counts()"
   ]
  },
  {
   "cell_type": "code",
   "execution_count": 18,
   "metadata": {},
   "outputs": [],
   "source": [
    "encoding = {\"ENTRE 10 Y 15 PESOS\": 10, \"MÁS DE 20 PESOS\": 20, \"ENTRE 15 Y 20 PESOS\" :15, \"ENTRE 5 Y 10 PESOS\":5, \"MENOS DE 5 PESOS\":  0}"
   ]
  },
  {
   "cell_type": "code",
   "execution_count": 22,
   "metadata": {},
   "outputs": [
    {
     "name": "stdout",
     "output_type": "stream",
     "text": [
      "PIE/CAMINA\n",
      "ENTRE 10 Y 15 PESOS    27\n",
      "ENTRE 15 Y 20 PESOS     2\n",
      "ENTRE 5 Y 10 PESOS      1\n",
      "MÁS DE 20 PESOS         1\n",
      "Name: COSTO TOTAL IDA, dtype: int64\n",
      "CAMIÓN/MICROBÚS\n",
      "ENTRE 10 Y 15 PESOS    465\n",
      "MÁS DE 20 PESOS         81\n",
      "ENTRE 15 Y 20 PESOS     38\n",
      "ENTRE 5 Y 10 PESOS      24\n",
      "MENOS DE 5 PESOS         3\n",
      "Name: COSTO TOTAL IDA, dtype: int64\n",
      "RUTA\n",
      "ENTRE 10 Y 15 PESOS    5\n",
      "ENTRE 5 Y 10 PESOS     1\n",
      "Name: COSTO TOTAL IDA, dtype: int64\n",
      "TAXI\n",
      "MÁS DE 20 PESOS        78\n",
      "ENTRE 10 Y 15 PESOS    11\n",
      "ENTRE 15 Y 20 PESOS     9\n",
      "Name: COSTO TOTAL IDA, dtype: int64\n",
      "UBER\n",
      "MÁS DE 20 PESOS    4\n",
      "Name: COSTO TOTAL IDA, dtype: int64\n",
      "MOTO\n",
      "Series([], Name: COSTO TOTAL IDA, dtype: int64)\n",
      "BICICLETA\n",
      "Series([], Name: COSTO TOTAL IDA, dtype: int64)\n",
      "METRO\n",
      "MENOS DE 5 PESOS       9\n",
      "ENTRE 10 Y 15 PESOS    3\n",
      "ENTRE 5 Y 10 PESOS     1\n",
      "MÁS DE 20 PESOS        1\n",
      "Name: COSTO TOTAL IDA, dtype: int64\n",
      "AUTO\n",
      "ENTRE 15 Y 20 PESOS    1\n",
      "Name: COSTO TOTAL IDA, dtype: int64\n",
      "TRANSMETRO\n",
      "MENOS DE 5 PESOS       7\n",
      "ENTRE 5 Y 10 PESOS     3\n",
      "ENTRE 10 Y 15 PESOS    3\n",
      "ENTRE 15 Y 20 PESOS    1\n",
      "MÁS DE 20 PESOS        1\n",
      "Name: COSTO TOTAL IDA, dtype: int64\n",
      "ECOVÍA\n",
      "ENTRE 10 Y 15 PESOS    5\n",
      "ENTRE 5 Y 10 PESOS     3\n",
      "MENOS DE 5 PESOS       1\n",
      "Name: COSTO TOTAL IDA, dtype: int64\n",
      "OTRO\n",
      "Series([], Name: COSTO TOTAL IDA, dtype: int64)\n"
     ]
    }
   ],
   "source": [
    "filtrados = {}\n",
    "medios = [\"PIE/CAMINA\",\"CAMIÓN/MICROBÚS\",\"RUTA\",\"TAXI\",\"UBER\",\"MOTO\",\"BICICLETA\",\"METRO\",\"AUTO\",\"TRANSMETRO\",\"ECOVÍA\",\"OTRO\"]\n",
    "for medio in medios:\n",
    "    filtrados[medio] = data_zmm[data_zmm[medio] == 1]\n",
    "    print(medio)\n",
    "    print(filtrados[medio][\"COSTO TOTAL IDA\"].value_counts())"
   ]
  },
  {
   "cell_type": "code",
   "execution_count": 26,
   "metadata": {},
   "outputs": [
    {
     "data": {
      "text/plain": [
       "HolaEduardo            897\n",
       "ENTRE 15 Y 20 PESOS      1\n",
       "Name: COSTO TOTAL IDA, dtype: int64"
      ]
     },
     "execution_count": 26,
     "metadata": {},
     "output_type": "execute_result"
    }
   ],
   "source": [
    "filtrados[\"AUTO\"][\"COSTO TOTAL IDA\"].fillna(\"HolaEduardo\").value_counts()"
   ]
  },
  {
   "cell_type": "code",
   "execution_count": null,
   "metadata": {
    "collapsed": true
   },
   "outputs": [],
   "source": []
  }
 ],
 "metadata": {
  "kernelspec": {
   "display_name": "Python 3",
   "language": "python",
   "name": "python3"
  },
  "language_info": {
   "codemirror_mode": {
    "name": "ipython",
    "version": 3
   },
   "file_extension": ".py",
   "mimetype": "text/x-python",
   "name": "python",
   "nbconvert_exporter": "python",
   "pygments_lexer": "ipython3",
   "version": "3.6.1"
  }
 },
 "nbformat": 4,
 "nbformat_minor": 2
}
